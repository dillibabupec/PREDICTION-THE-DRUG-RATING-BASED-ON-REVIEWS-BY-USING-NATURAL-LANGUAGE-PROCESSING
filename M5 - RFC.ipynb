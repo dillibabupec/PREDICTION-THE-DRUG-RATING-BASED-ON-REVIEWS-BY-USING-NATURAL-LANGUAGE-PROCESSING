{
 "cells": [
  {
   "cell_type": "markdown",
   "id": "aa03da3d",
   "metadata": {},
   "source": [
    "## RANDOM FOREST CLASSIFIER ALGORITHM"
   ]
  },
  {
   "cell_type": "code",
   "execution_count": 1,
   "id": "971eb4f1",
   "metadata": {},
   "outputs": [],
   "source": [
    "import pandas as pd\n",
    "import numpy as np"
   ]
  },
  {
   "cell_type": "code",
   "execution_count": 2,
   "id": "3d24f676",
   "metadata": {},
   "outputs": [
    {
     "data": {
      "text/html": [
       "<div>\n",
       "<style scoped>\n",
       "    .dataframe tbody tr th:only-of-type {\n",
       "        vertical-align: middle;\n",
       "    }\n",
       "\n",
       "    .dataframe tbody tr th {\n",
       "        vertical-align: top;\n",
       "    }\n",
       "\n",
       "    .dataframe thead th {\n",
       "        text-align: right;\n",
       "    }\n",
       "</style>\n",
       "<table border=\"1\" class=\"dataframe\">\n",
       "  <thead>\n",
       "    <tr style=\"text-align: right;\">\n",
       "      <th></th>\n",
       "      <th>review</th>\n",
       "      <th>rating</th>\n",
       "    </tr>\n",
       "  </thead>\n",
       "  <tbody>\n",
       "    <tr>\n",
       "      <th>0</th>\n",
       "      <td>\"i have used restasis for about a year now and...</td>\n",
       "      <td>2.0</td>\n",
       "    </tr>\n",
       "    <tr>\n",
       "      <th>1</th>\n",
       "      <td>\"my experience has been somewhat mixed. i have...</td>\n",
       "      <td>7.0</td>\n",
       "    </tr>\n",
       "    <tr>\n",
       "      <th>2</th>\n",
       "      <td>\"this is my second implanon would not recommen...</td>\n",
       "      <td>1.0</td>\n",
       "    </tr>\n",
       "    <tr>\n",
       "      <th>3</th>\n",
       "      <td>\"i recommend taking as prescribed, and the bot...</td>\n",
       "      <td>10.0</td>\n",
       "    </tr>\n",
       "    <tr>\n",
       "      <th>4</th>\n",
       "      <td>\"i have been on ampyra for 5 days and have bee...</td>\n",
       "      <td>9.0</td>\n",
       "    </tr>\n",
       "  </tbody>\n",
       "</table>\n",
       "</div>"
      ],
      "text/plain": [
       "                                              review  rating\n",
       "0  \"i have used restasis for about a year now and...     2.0\n",
       "1  \"my experience has been somewhat mixed. i have...     7.0\n",
       "2  \"this is my second implanon would not recommen...     1.0\n",
       "3  \"i recommend taking as prescribed, and the bot...    10.0\n",
       "4  \"i have been on ampyra for 5 days and have bee...     9.0"
      ]
     },
     "execution_count": 2,
     "metadata": {},
     "output_type": "execute_result"
    }
   ],
   "source": [
    "# Step 1: Load the CSV dataset\n",
    "\n",
    "Data = pd.read_csv('DRUG.csv', usecols=['review','rating'])\n",
    "Data.head()"
   ]
  },
  {
   "cell_type": "code",
   "execution_count": 3,
   "id": "90a03eba",
   "metadata": {},
   "outputs": [
    {
     "data": {
      "text/html": [
       "<div>\n",
       "<style scoped>\n",
       "    .dataframe tbody tr th:only-of-type {\n",
       "        vertical-align: middle;\n",
       "    }\n",
       "\n",
       "    .dataframe tbody tr th {\n",
       "        vertical-align: top;\n",
       "    }\n",
       "\n",
       "    .dataframe thead th {\n",
       "        text-align: right;\n",
       "    }\n",
       "</style>\n",
       "<table border=\"1\" class=\"dataframe\">\n",
       "  <thead>\n",
       "    <tr style=\"text-align: right;\">\n",
       "      <th></th>\n",
       "      <th>review</th>\n",
       "      <th>rating</th>\n",
       "    </tr>\n",
       "  </thead>\n",
       "  <tbody>\n",
       "    <tr>\n",
       "      <th>110806</th>\n",
       "      <td>\"i had tried many medications to level out my ...</td>\n",
       "      <td>8.0</td>\n",
       "    </tr>\n",
       "    <tr>\n",
       "      <th>110807</th>\n",
       "      <td>\"had partial thyroid removal with benign tumor...</td>\n",
       "      <td>7.0</td>\n",
       "    </tr>\n",
       "    <tr>\n",
       "      <th>110808</th>\n",
       "      <td>\"my experience with risperdal started when i f...</td>\n",
       "      <td>8.0</td>\n",
       "    </tr>\n",
       "    <tr>\n",
       "      <th>110809</th>\n",
       "      <td>\"my elderly dad was prescribed a low dose of a...</td>\n",
       "      <td>1.0</td>\n",
       "    </tr>\n",
       "    <tr>\n",
       "      <th>110810</th>\n",
       "      <td>\"latuda has been a hero in my battle against s...</td>\n",
       "      <td>10.0</td>\n",
       "    </tr>\n",
       "  </tbody>\n",
       "</table>\n",
       "</div>"
      ],
      "text/plain": [
       "                                                   review  rating\n",
       "110806  \"i had tried many medications to level out my ...     8.0\n",
       "110807  \"had partial thyroid removal with benign tumor...     7.0\n",
       "110808  \"my experience with risperdal started when i f...     8.0\n",
       "110809  \"my elderly dad was prescribed a low dose of a...     1.0\n",
       "110810  \"latuda has been a hero in my battle against s...    10.0"
      ]
     },
     "execution_count": 3,
     "metadata": {},
     "output_type": "execute_result"
    }
   ],
   "source": [
    "Data.tail()"
   ]
  },
  {
   "cell_type": "code",
   "execution_count": 4,
   "id": "d20ca166",
   "metadata": {},
   "outputs": [
    {
     "data": {
      "text/plain": [
       "rating\n",
       "10.0    34255\n",
       "9.0     19407\n",
       "1.0     14286\n",
       "8.0     13305\n",
       "7.0      6671\n",
       "5.0      5711\n",
       "2.0      4776\n",
       "3.0      4540\n",
       "6.0      4359\n",
       "4.0      3501\n",
       "Name: count, dtype: int64"
      ]
     },
     "execution_count": 4,
     "metadata": {},
     "output_type": "execute_result"
    }
   ],
   "source": [
    "Data['rating'].value_counts()"
   ]
  },
  {
   "cell_type": "code",
   "execution_count": 5,
   "id": "88ddb298",
   "metadata": {},
   "outputs": [],
   "source": [
    "import re\n",
    "from nltk.corpus import stopwords\n",
    "from nltk.stem import PorterStemmer\n",
    "from nltk.tokenize import word_tokenize"
   ]
  },
  {
   "cell_type": "code",
   "execution_count": 6,
   "id": "139b12d1",
   "metadata": {},
   "outputs": [],
   "source": [
    "# Define preprocess function for text preprocessing\n",
    "\n",
    "def preprocess_text(text):\n",
    "    \n",
    "    # Check for NaN values and handle them\n",
    "    \n",
    "    if pd.isnull(text):\n",
    "        return \"\"\n",
    "    \n",
    "    # Convert to lowercase\n",
    "    \n",
    "    text = text.lower()\n",
    "    \n",
    "    # Remove special characters and digits\n",
    "    \n",
    "    text = re.sub(r'[^a-zA-Z\\s]', '', text)\n",
    "    \n",
    "    # Tokenization and remove stop words\n",
    "    \n",
    "    stop_words = set(stopwords.words('english'))\n",
    "    \n",
    "    words = [word for word in word_tokenize(text) if word not in stop_words]\n",
    "    \n",
    "    # Stemming\n",
    "    \n",
    "    ps = PorterStemmer()\n",
    "    \n",
    "    words = [ps.stem(word) for word in words]\n",
    "    \n",
    "    # Join the preprocessed words back into a single string\n",
    "    \n",
    "    preprocessed_text = ' '.join(words)\n",
    "    \n",
    "    return preprocessed_text"
   ]
  },
  {
   "cell_type": "code",
   "execution_count": 7,
   "id": "e2a26c68",
   "metadata": {},
   "outputs": [],
   "source": [
    "# Step 2: Data Preprocessing\n",
    "\n",
    "Data['review'] = Data['review'].apply(preprocess_text)"
   ]
  },
  {
   "cell_type": "code",
   "execution_count": 8,
   "id": "4ca38902",
   "metadata": {},
   "outputs": [],
   "source": [
    "# Step 3: Feature Extraction (TF-IDF)\n",
    "\n",
    "from sklearn.feature_extraction.text import TfidfVectorizer\n",
    "\n",
    "tfidf_vectorizer = TfidfVectorizer()\n",
    "x1 = tfidf_vectorizer.fit_transform(Data['review'])"
   ]
  },
  {
   "cell_type": "code",
   "execution_count": 9,
   "id": "a65994cc",
   "metadata": {},
   "outputs": [],
   "source": [
    "# Assuming you have a column named 'label' containing the target labels\n",
    "\n",
    "y1 = Data['rating']"
   ]
  },
  {
   "cell_type": "code",
   "execution_count": 10,
   "id": "f7561169",
   "metadata": {},
   "outputs": [
    {
     "name": "stdout",
     "output_type": "stream",
     "text": [
      "OUR DATASET COUNT         :  Counter({10.0: 34255, 9.0: 19407, 1.0: 14286, 8.0: 13305, 7.0: 6671, 5.0: 5711, 2.0: 4776, 3.0: 4540, 6.0: 4359, 4.0: 3501})\n",
      "OVER SAMPLING DATA COUNT  :  Counter({2.0: 34255, 7.0: 34255, 1.0: 34255, 10.0: 34255, 9.0: 34255, 8.0: 34255, 5.0: 34255, 3.0: 34255, 6.0: 34255, 4.0: 34255})\n"
     ]
    }
   ],
   "source": [
    "import imblearn\n",
    "from imblearn.over_sampling import RandomOverSampler\n",
    "from collections import Counter\n",
    "\n",
    "ros =RandomOverSampler(random_state=42)\n",
    "x,y=ros.fit_resample(x1,y1)\n",
    "\n",
    "print(\"OUR DATASET COUNT         : \", Counter(y1))\n",
    "print(\"OVER SAMPLING DATA COUNT  : \", Counter(y))"
   ]
  },
  {
   "cell_type": "code",
   "execution_count": 11,
   "id": "35fd6704",
   "metadata": {},
   "outputs": [],
   "source": [
    "# Step 5: Splitting Data\n",
    "\n",
    "from sklearn.model_selection import train_test_split\n",
    "\n",
    "x_train, x_test, y_train, y_test = train_test_split(x, y, test_size=0.2, random_state=42)"
   ]
  },
  {
   "cell_type": "code",
   "execution_count": 12,
   "id": "9107ee9d",
   "metadata": {},
   "outputs": [],
   "source": [
    "from sklearn.ensemble import RandomForestClassifier"
   ]
  },
  {
   "cell_type": "code",
   "execution_count": 13,
   "id": "17cc4b75",
   "metadata": {},
   "outputs": [],
   "source": [
    "# Step 6: Machine Learning Model (Naive Bayes)\n",
    "\n",
    "RFC = RandomForestClassifier()"
   ]
  },
  {
   "cell_type": "code",
   "execution_count": 14,
   "id": "656c999b",
   "metadata": {},
   "outputs": [
    {
     "data": {
      "text/html": [
       "<style>#sk-container-id-1 {color: black;background-color: white;}#sk-container-id-1 pre{padding: 0;}#sk-container-id-1 div.sk-toggleable {background-color: white;}#sk-container-id-1 label.sk-toggleable__label {cursor: pointer;display: block;width: 100%;margin-bottom: 0;padding: 0.3em;box-sizing: border-box;text-align: center;}#sk-container-id-1 label.sk-toggleable__label-arrow:before {content: \"▸\";float: left;margin-right: 0.25em;color: #696969;}#sk-container-id-1 label.sk-toggleable__label-arrow:hover:before {color: black;}#sk-container-id-1 div.sk-estimator:hover label.sk-toggleable__label-arrow:before {color: black;}#sk-container-id-1 div.sk-toggleable__content {max-height: 0;max-width: 0;overflow: hidden;text-align: left;background-color: #f0f8ff;}#sk-container-id-1 div.sk-toggleable__content pre {margin: 0.2em;color: black;border-radius: 0.25em;background-color: #f0f8ff;}#sk-container-id-1 input.sk-toggleable__control:checked~div.sk-toggleable__content {max-height: 200px;max-width: 100%;overflow: auto;}#sk-container-id-1 input.sk-toggleable__control:checked~label.sk-toggleable__label-arrow:before {content: \"▾\";}#sk-container-id-1 div.sk-estimator input.sk-toggleable__control:checked~label.sk-toggleable__label {background-color: #d4ebff;}#sk-container-id-1 div.sk-label input.sk-toggleable__control:checked~label.sk-toggleable__label {background-color: #d4ebff;}#sk-container-id-1 input.sk-hidden--visually {border: 0;clip: rect(1px 1px 1px 1px);clip: rect(1px, 1px, 1px, 1px);height: 1px;margin: -1px;overflow: hidden;padding: 0;position: absolute;width: 1px;}#sk-container-id-1 div.sk-estimator {font-family: monospace;background-color: #f0f8ff;border: 1px dotted black;border-radius: 0.25em;box-sizing: border-box;margin-bottom: 0.5em;}#sk-container-id-1 div.sk-estimator:hover {background-color: #d4ebff;}#sk-container-id-1 div.sk-parallel-item::after {content: \"\";width: 100%;border-bottom: 1px solid gray;flex-grow: 1;}#sk-container-id-1 div.sk-label:hover label.sk-toggleable__label {background-color: #d4ebff;}#sk-container-id-1 div.sk-serial::before {content: \"\";position: absolute;border-left: 1px solid gray;box-sizing: border-box;top: 0;bottom: 0;left: 50%;z-index: 0;}#sk-container-id-1 div.sk-serial {display: flex;flex-direction: column;align-items: center;background-color: white;padding-right: 0.2em;padding-left: 0.2em;position: relative;}#sk-container-id-1 div.sk-item {position: relative;z-index: 1;}#sk-container-id-1 div.sk-parallel {display: flex;align-items: stretch;justify-content: center;background-color: white;position: relative;}#sk-container-id-1 div.sk-item::before, #sk-container-id-1 div.sk-parallel-item::before {content: \"\";position: absolute;border-left: 1px solid gray;box-sizing: border-box;top: 0;bottom: 0;left: 50%;z-index: -1;}#sk-container-id-1 div.sk-parallel-item {display: flex;flex-direction: column;z-index: 1;position: relative;background-color: white;}#sk-container-id-1 div.sk-parallel-item:first-child::after {align-self: flex-end;width: 50%;}#sk-container-id-1 div.sk-parallel-item:last-child::after {align-self: flex-start;width: 50%;}#sk-container-id-1 div.sk-parallel-item:only-child::after {width: 0;}#sk-container-id-1 div.sk-dashed-wrapped {border: 1px dashed gray;margin: 0 0.4em 0.5em 0.4em;box-sizing: border-box;padding-bottom: 0.4em;background-color: white;}#sk-container-id-1 div.sk-label label {font-family: monospace;font-weight: bold;display: inline-block;line-height: 1.2em;}#sk-container-id-1 div.sk-label-container {text-align: center;}#sk-container-id-1 div.sk-container {/* jupyter's `normalize.less` sets `[hidden] { display: none; }` but bootstrap.min.css set `[hidden] { display: none !important; }` so we also need the `!important` here to be able to override the default hidden behavior on the sphinx rendered scikit-learn.org. See: https://github.com/scikit-learn/scikit-learn/issues/21755 */display: inline-block !important;position: relative;}#sk-container-id-1 div.sk-text-repr-fallback {display: none;}</style><div id=\"sk-container-id-1\" class=\"sk-top-container\"><div class=\"sk-text-repr-fallback\"><pre>RandomForestClassifier()</pre><b>In a Jupyter environment, please rerun this cell to show the HTML representation or trust the notebook. <br />On GitHub, the HTML representation is unable to render, please try loading this page with nbviewer.org.</b></div><div class=\"sk-container\" hidden><div class=\"sk-item\"><div class=\"sk-estimator sk-toggleable\"><input class=\"sk-toggleable__control sk-hidden--visually\" id=\"sk-estimator-id-1\" type=\"checkbox\" checked><label for=\"sk-estimator-id-1\" class=\"sk-toggleable__label sk-toggleable__label-arrow\">RandomForestClassifier</label><div class=\"sk-toggleable__content\"><pre>RandomForestClassifier()</pre></div></div></div></div></div>"
      ],
      "text/plain": [
       "RandomForestClassifier()"
      ]
     },
     "execution_count": 14,
     "metadata": {},
     "output_type": "execute_result"
    }
   ],
   "source": [
    "# Step 7: Training the Model\n",
    "\n",
    "RFC.fit(x_train, y_train)"
   ]
  },
  {
   "cell_type": "code",
   "execution_count": 15,
   "id": "6c3a9c83",
   "metadata": {},
   "outputs": [],
   "source": [
    "# Step 8: Evaluation\n",
    "predicted = RFC.predict(x_test)"
   ]
  },
  {
   "cell_type": "code",
   "execution_count": 16,
   "id": "83ebe024",
   "metadata": {},
   "outputs": [
    {
     "name": "stdout",
     "output_type": "stream",
     "text": [
      "THE ACCURACY SCORE OF RANDOM FOREST CLASSIFIER IS : 96.10275872135455\n"
     ]
    }
   ],
   "source": [
    "from sklearn.metrics import accuracy_score\n",
    "\n",
    "AC = accuracy_score(y_test,predicted)\n",
    "\n",
    "print(\"THE ACCURACY SCORE OF RANDOM FOREST CLASSIFIER IS :\",AC*100)"
   ]
  },
  {
   "cell_type": "code",
   "execution_count": 17,
   "id": "a21be74c",
   "metadata": {},
   "outputs": [
    {
     "name": "stdout",
     "output_type": "stream",
     "text": [
      "THE HAMMING LOSS OF RANDOM FOREST CLASSIFIER IS : 3.897241278645453\n"
     ]
    }
   ],
   "source": [
    "from sklearn.metrics import hamming_loss\n",
    "\n",
    "HL = hamming_loss(y_test,predicted)\n",
    "\n",
    "print(\"THE HAMMING LOSS OF RANDOM FOREST CLASSIFIER IS :\",HL*100)"
   ]
  },
  {
   "cell_type": "code",
   "execution_count": 18,
   "id": "45bcdadc",
   "metadata": {},
   "outputs": [
    {
     "name": "stdout",
     "output_type": "stream",
     "text": [
      "THE CLASSIFICATION REPORT OF RANDOM FOREST CLASSIFIER:\n",
      "\n",
      "               precision    recall  f1-score   support\n",
      "\n",
      "         1.0       0.96      0.96      0.96      6939\n",
      "         2.0       1.00      1.00      1.00      6881\n",
      "         3.0       1.00      1.00      1.00      6946\n",
      "         4.0       1.00      1.00      1.00      6752\n",
      "         5.0       1.00      1.00      1.00      6872\n",
      "         6.0       1.00      1.00      1.00      6778\n",
      "         7.0       1.00      0.99      1.00      6863\n",
      "         8.0       0.98      0.93      0.95      6778\n",
      "         9.0       0.93      0.83      0.87      6869\n",
      "        10.0       0.78      0.91      0.84      6832\n",
      "\n",
      "    accuracy                           0.96     68510\n",
      "   macro avg       0.96      0.96      0.96     68510\n",
      "weighted avg       0.96      0.96      0.96     68510\n",
      "\n"
     ]
    }
   ],
   "source": [
    "from sklearn.metrics import classification_report\n",
    "\n",
    "CL = classification_report(y_test,predicted)\n",
    "\n",
    "print('THE CLASSIFICATION REPORT OF RANDOM FOREST CLASSIFIER:\\n\\n',CL)"
   ]
  },
  {
   "cell_type": "code",
   "execution_count": 19,
   "id": "5c66f36a",
   "metadata": {},
   "outputs": [
    {
     "name": "stdout",
     "output_type": "stream",
     "text": [
      "THE CONFUSION MATRIX SCORE OF RANDOM FOREST CLASSIFIER:\n",
      "\n",
      "\n",
      " [[6638    0    2    0    2    0    0   10   36  251]\n",
      " [   0 6871    0    0    0    0    0    0    0   10]\n",
      " [   0    0 6945    0    0    0    0    0    0    1]\n",
      " [   0    0    0 6749    0    0    0    0    0    3]\n",
      " [  10    0    0    0 6856    0    0    0    2    4]\n",
      " [   2    0    0    0    0 6772    0    0    0    4]\n",
      " [   9    0    0    0    0    0 6818    4    7   25]\n",
      " [  42    0    0    0    0    0    0 6276   70  390]\n",
      " [  49    0    0    0    3    0    0   52 5682 1083]\n",
      " [ 186    1    0    0    0    0    0   76  336 6233]]\n"
     ]
    }
   ],
   "source": [
    "from sklearn.metrics import confusion_matrix\n",
    "\n",
    "CM = confusion_matrix(y_test,predicted)\n",
    "\n",
    "print('THE CONFUSION MATRIX SCORE OF RANDOM FOREST CLASSIFIER:\\n\\n\\n',CM)"
   ]
  },
  {
   "cell_type": "code",
   "execution_count": 20,
   "id": "f9c3b9fa",
   "metadata": {},
   "outputs": [
    {
     "name": "stdout",
     "output_type": "stream",
     "text": [
      "THE CONFUSION MATRIX SCORE OF RANDOM FOREST CLASSIFIER:\n",
      "\n",
      "\n",
      "[[6638    0    2    0    2    0    0   10   36  251]\n",
      " [   0 6871    0    0    0    0    0    0    0   10]\n",
      " [   0    0 6945    0    0    0    0    0    0    1]\n",
      " [   0    0    0 6749    0    0    0    0    0    3]\n",
      " [  10    0    0    0 6856    0    0    0    2    4]\n",
      " [   2    0    0    0    0 6772    0    0    0    4]\n",
      " [   9    0    0    0    0    0 6818    4    7   25]\n",
      " [  42    0    0    0    0    0    0 6276   70  390]\n",
      " [  49    0    0    0    3    0    0   52 5682 1083]\n",
      " [ 186    1    0    0    0    0    0   76  336 6233]]\n",
      "\n",
      "\n",
      "DISPLAY CONFUSION MATRIX OF RANDOM FOREST CLASSIFIER: \n",
      "\n",
      "\n"
     ]
    },
    {
     "data": {
      "image/png": "[encoded data removed]",
      "text/plain": [
       "<Figure size 640x480 with 2 Axes>"
      ]
     },
     "metadata": {},
     "output_type": "display_data"
    }
   ],
   "source": [
    "import matplotlib.pyplot as plt\n",
    "\n",
    "cm=confusion_matrix(y_test, predicted)\n",
    "print('THE CONFUSION MATRIX SCORE OF RANDOM FOREST CLASSIFIER:\\n\\n')\n",
    "print(cm)\n",
    "print(\"\\n\\nDISPLAY CONFUSION MATRIX OF RANDOM FOREST CLASSIFIER: \\n\\n\")\n",
    "\n",
    "from sklearn.metrics import ConfusionMatrixDisplay\n",
    "\n",
    "cm = confusion_matrix(y_test, predicted, labels=RFC.classes_)\n",
    "disp = ConfusionMatrixDisplay(confusion_matrix=cm,display_labels=RFC.classes_)\n",
    "disp.plot()\n",
    "plt.show()\n"
   ]
  },
  {
   "cell_type": "code",
   "execution_count": 21,
   "id": "23a32994",
   "metadata": {},
   "outputs": [
    {
     "data": {
      "image/png": "[encoded data removed]",
      "text/plain": [
       "<Figure size 500x500 with 1 Axes>"
      ]
     },
     "metadata": {},
     "output_type": "display_data"
    }
   ],
   "source": [
    "def graph():\n",
    "    import matplotlib.pyplot as plt\n",
    "    data=[AC]\n",
    "    alg=\"RANDOM FOREST CLASSIFIER\"\n",
    "    plt.figure(figsize=(5,5))\n",
    "    b=plt.bar(alg,data,color=(\"GREEN\"))\n",
    "    plt.title(\"THE ACCURACY SCORE OF RANDOM FOREST CLASSIFIER IS\\n\\n\\n\")\n",
    "    plt.legend(b,data,fontsize=9)\n",
    "graph()"
   ]
  },
  {
   "cell_type": "code",
   "execution_count": null,
   "id": "848ecf62",
   "metadata": {},
   "outputs": [],
   "source": []
  },
  {
   "cell_type": "code",
   "execution_count": 22,
   "id": "1145964e",
   "metadata": {},
   "outputs": [
    {
     "data": {
      "text/plain": [
       "['MODEL.pkl']"
      ]
     },
     "execution_count": 22,
     "metadata": {},
     "output_type": "execute_result"
    }
   ],
   "source": [
    "import joblib\n",
    "joblib.dump(RFC, 'MODEL.pkl')"
   ]
  },
  {
   "cell_type": "code",
   "execution_count": 23,
   "id": "f088a7b4",
   "metadata": {},
   "outputs": [
    {
     "data": {
      "text/plain": [
       "['VECTOR.pkl']"
      ]
     },
     "execution_count": 23,
     "metadata": {},
     "output_type": "execute_result"
    }
   ],
   "source": [
    "import joblib\n",
    "joblib.dump(tfidf_vectorizer, 'VECTOR.pkl')"
   ]
  },
  {
   "cell_type": "code",
   "execution_count": null,
   "id": "226682d0",
   "metadata": {},
   "outputs": [],
   "source": []
  }
 ],
 "metadata": {
  "kernelspec": {
   "display_name": "Python 3 (ipykernel)",
   "language": "python",
   "name": "python3"
  },
  "language_info": {
   "codemirror_mode": {
    "name": "ipython",
    "version": 3
   },
   "file_extension": ".py",
   "mimetype": "text/x-python",
   "name": "python",
   "nbconvert_exporter": "python",
   "pygments_lexer": "ipython3",
   "version": "3.11.3"
  }
 },
 "nbformat": 4,
 "nbformat_minor": 5
}
